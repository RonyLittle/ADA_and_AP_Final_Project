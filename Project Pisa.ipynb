version https://git-lfs.github.com/spec/v1
oid sha256:f9ae02d8bd29411fa75cb4e35bf8ffcc967ff9efca1a169ba28e0ec1ca0bfe63
size 27663
